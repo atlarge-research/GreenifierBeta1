{
 "cells": [
  {
   "cell_type": "markdown",
   "metadata": {},
   "source": [
    "# Graph Greenifier Demo\n",
    "Data centers are becoming an increasingly large contributor to the global carbon footprint. However, because of a lack of tools / guidelines, it has been challenging to optimize data centers for carbon emissions. This is amplified by the fact that running experiments on data centers is both expansive and time consuming. \n",
    "To lessen this problem, we propose Graph Greenifier, a tool that can predict the carbon footprint of a data center using simulation. Graph Greenifier is part of Graph Massivizer, a project that is creating a large scale serverless graph processing tool. \n",
    "\n",
    "In this demo we are showing the basic functionalities of the Graph Greenfier tool. The demo is split in two parts:\n",
    "\n",
    "- First, we setup an experiment, and simulate it using the [OpenDC](https://opendc.org/) framework. OpenDC is an event based stochastic data center simulator that is developed by the atlarge research group at the Vrije Universiteit Amsterdam. During the simulation, several performance metrics are gathered. \n",
    "\n",
    "- After the simulation, we analyse and visualize the results. Graph-Greenifier provides several tools to make working with the output easier. "
   ]
  },
  {
   "cell_type": "markdown",
   "metadata": {},
   "source": [
    "## 1. Traces \n",
    "\n",
    "To determine the footprint of a data center, Graph Greenifier requires information on what has to be executed. This information is provided in the form of workload traces. These traces contain information on when each task is submitted, how long they will take to finish, and what their computational requirements are.  \n",
    "A typical workload contains two files: \n",
    "- [meta](resources/workloads/bitbrains-small/trace/meta.parquet), containing general information about the tasks in the workload, such as submission time and duration.\n",
    "- [trace](resources/workloads/bitbrains-small/trace/trace.parquet), containing detailed information on each task over time, such as the computational requirements during the workload.\n",
    "\n",
    "In this demo we are using running the [bitbrains-small](resources/workloads/bitbrains-small/) dataset as our workload. The bitbrains-small workload consist of 50 tasks with a runtime ranging from less than 7 days to more than 30 days. \n",
    "\n",
    "The workload is enough to determine the energy usage of the data center. However, to determine the carbon emissions, Graph Greenifier requires information about the type of energy that is available to the data center. \n",
    "This can be provided using a carbon intensity trace. This trace describes the carbon intensity (the amount of carbon emitted per unit of energy used) during the workload in 15 minute increments. \n",
    "\n",
    "In this demo, we assume that our data center is located in the Netherlands, and uses energy directly from the grid. \n",
    "\n"
   ]
  },
  {
   "cell_type": "markdown",
   "metadata": {},
   "source": [
    "## 2. Topology\n",
    "Aside from the workload that needs to be executed, Graph Greenifier requires information about topology of the data center (all hardware containted in the data center). The topology of a data center can influence its performance and sustainability greatly. It determines which tasks can be run, how efficiently they are run, and if they can be executed in parallel.\n",
    "\n",
    "The topology of datacenter is provided using a json file. This file defines how many clusters are available, the hosts they contain, and what type of hosts they are. In this demo we compare the performance of two topologies: [small](resources/topologies/small.json) and [large](resources/topologies/large.json) which can both be found in the resources/topologies folder. \n",
    "\n",
    "#### Small\n",
    "Below, the topology of the small data center is shown:\n",
    "\n",
    "```json\n",
    "{\n",
    "    \"clusters\":\n",
    "    [\n",
    "        {\n",
    "            \"name\": \"C01\",\n",
    "            \"hosts\" :\n",
    "            [\n",
    "                {\n",
    "                    \"name\": \"H01\",\n",
    "                    \"cpu\":\n",
    "                    {\n",
    "                        \"coreCount\": 16,\n",
    "                        \"coreSpeed\": 3200,\n",
    "                        \"count\": 2\n",
    "                    },\n",
    "                    \"memory\": {\n",
    "                        \"memorySize\": 128000000\n",
    "                    }\n",
    "                }\n",
    "            ]\n",
    "        }\n",
    "    ]\n",
    "}\n",
    "```\n",
    "\n",
    "The small data center contains only a single cluster *C01*, which contains a single host *H01*. Host *H01* constains two CPUs with 16 cores running at 3200 Mhz, and has a memory of 128000000 Bytes.\n",
    "\n",
    "#### Large\n",
    "We will compare the performance of the *small* data center, to that of a *large* data center.\n",
    "The topology of the large data center can be found in [large](resources/topologies/large.json). \n",
    "\n",
    "**Exercise 1**:\n",
    "\n",
    "Can you determine what the available hardware is in the large data center? \n",
    "\n",
    "\n",
    "**Exercise 2**:\n",
    "\n",
    "In the next execise we will try to create our own topology. \n",
    "Assume we want to experiment with a data center that has the following features:\n",
    "- two clusters: *C01* and *C02*\n",
    "- *CO1* has a single host *H01*\n",
    "- *H01* has a single cpu which has a 8 cores with a speed of 2,000 Mhz.\n",
    "- *H01* has 128,000,000 Bytes of memory.\n",
    "- *C02* has two hosts: *H02* and *H03*\n",
    "- *H02* has a two cpus with 4 cores and a speed of 1,000.\n",
    "- *H02* has 12,800,000 Bytes of memory.\n",
    "- *H03* has a two cpus with 4 cores and a speed of 1,000.\n",
    "- *H03* has 1,000,000,000 Bytes of memory.\n",
    "\n",
    "Can you make a topology that represent this data center? Fill the [medium](resources/topologies/medium.json).\n",
    "\n",
    "\n",
    "___Please answer the questions related to the topologies in the google form___"
   ]
  },
  {
   "cell_type": "markdown",
   "metadata": {},
   "source": [
    "## 3. Scenario\n",
    "An experiment is defined using a Scenario. Scenarios describe what the Graph Greenifier should run, and how. In this demo we will use a provided scenario that can be found [here](resources/scenarios/scenario.json). Its content is shown below:\n",
    "\n",
    "```json\n",
    "{\n",
    "    \"name\": \"greenifier-demo\",\n",
    "    \"topologies\": [{\n",
    "            \"pathToFile\": \"resources/topologies/small.json\"\n",
    "        },\n",
    "        {\n",
    "            \"pathToFile\": \"resources/topologies/large.json\"\n",
    "        }],\n",
    "    \"workloads\": [\n",
    "        {\n",
    "            \"pathToFile\": \"resources/workloads/bitbrains-small\",\n",
    "            \"type\": \"ComputeWorkload\"\n",
    "        }\n",
    "    ],\n",
    "    \"carbonTracePaths\": [\n",
    "        \"resources/carbon_intensity.parquet\"\n",
    "    ]\n",
    "}\n",
    "```\n",
    "\n",
    "The scenario file used in this demo defines four variables:\n",
    "- \"name\" defines where the ouput files will be stored\n",
    "- \"topologies\" define the different topologies that will be used in the experiments\n",
    "- \"workloads\" define what workloads will be run\n",
    "- \"carbonTracePaths\" define the carbon information used to determined the carbon footprint\n",
    "\n",
    "From these variables, only the topologies and workloads are required. There are more variables that can further specify a scenario, but they will not be used in this demo. More information on scenarios can be found [here](https://atlarge-research.github.io/opendc/docs/documentation/Input/Scenario).\n",
    "\n",
    "Note: most of the variables in the scenario file are provided as lists. This makes it possible to run different experiments using the same scenario. Graph Greenifier will run all combinations of variables as seperate experiments. In this demo, we providee two topologies, and a single workload. This means that the same workload will be executed on the both scenarios, resulting in two results.\n",
    "\n",
    "\n",
    "___Please answer the questions related to the Scenarios in the google form___"
   ]
  },
  {
   "cell_type": "markdown",
   "metadata": {},
   "source": [
    "## 4. Running\n",
    "The Graph Greenifier is a terminal tool, which means it can be directly executed from the terminal. However, in this demo we use subprocess to execute the terminal command directly from python "
   ]
  },
  {
   "cell_type": "code",
   "execution_count": 1,
   "metadata": {},
   "outputs": [
    {
     "name": "stdout",
     "output_type": "stream",
     "text": [
      "\n",
      "\n",
      "\u001b[32m================================================================================\u001b[0m\n",
      "\u001b[34m Running scenario: 0 \u001b[0m\n",
      "\u001b[32m================================================================================\u001b[0m\n"
     ]
    },
    {
     "name": "stderr",
     "output_type": "stream",
     "text": [
      "Simulating... 100% [=================================] 1/1 (0:00:02 / 0:00:00) \n",
      "Simulating...   0% [                                       ] 0/1 (0:00:00 / ?) "
     ]
    },
    {
     "name": "stdout",
     "output_type": "stream",
     "text": [
      "\n",
      "\n",
      "\u001b[32m================================================================================\u001b[0m\n",
      "\u001b[34m Running scenario: 1 \u001b[0m\n",
      "\u001b[32m================================================================================\u001b[0m\n",
      "CPU times: user 3.72 ms, sys: 8.75 ms, total: 12.5 ms\n",
      "Wall time: 4.03 s\n"
     ]
    },
    {
     "name": "stderr",
     "output_type": "stream",
     "text": [
      "Simulating... 100% [=================================] 1/1 (0:00:00 / 0:00:00) \n"
     ]
    },
    {
     "data": {
      "text/plain": [
       "CompletedProcess(args=['bin/greenifier', '--scenario-path', 'resources/scenarios/scenario.json'], returncode=0)"
      ]
     },
     "execution_count": 1,
     "metadata": {},
     "output_type": "execute_result"
    }
   ],
   "source": [
    "%%time\n",
    "import subprocess\n",
    "\n",
    "pathToScenario = \"resources/scenarios/scenario.json\"\n",
    "\n",
    "subprocess.run([\"bin/greenifier\", \"--scenario-path\", pathToScenario])"
   ]
  },
  {
   "cell_type": "markdown",
   "metadata": {},
   "source": [
    "___Please put the total runtime of the experiment in the google form___"
   ]
  },
  {
   "cell_type": "markdown",
   "metadata": {},
   "source": [
    "## 5. Output\n",
    "Graph Greenifier outputs three different files containing different information for each experiment saved as parquet files.\n",
    "\n",
    "\n",
    "The first output file is the host file. This file contains information related to the hosts, such as the cpu utilization or energy usage. \n",
    "The second output file is the server file. This file contains information about the executed tasks, such as their uptime.\n",
    "The final output file is the service file. This file contains overall information, such as how many tasks are running, or how many hosts are currently up.\n",
    "Further information about the output files can be found [here](https://atlarge-research.github.io/opendc/docs/documentation/Output)\n",
    "\n",
    "We start by loading the output files directly into pandas DataFrames"
   ]
  },
  {
   "cell_type": "code",
   "execution_count": 2,
   "metadata": {},
   "outputs": [],
   "source": [
    "import pandas as pd\n",
    "import numpy as np\n",
    "import utils\n",
    "import matplotlib.pyplot as plt\n",
    "\n",
    "pathToOutput = \"output/greenifier-demo\"\n",
    "\n",
    "df_host_small, df_server_small, df_service_small, df_host_large, df_server_large, df_service_large  = utils.get_dataframes(pathToOutput)"
   ]
  },
  {
   "cell_type": "markdown",
   "metadata": {},
   "source": [
    "### Host\n",
    "Lets look at the three raw output files. We start with the host output file. The host file contains all information about the host at each timestamp. Examples of metrics contained in this file are cpu_utilization, power_draw, or energy_usage. "
   ]
  },
  {
   "cell_type": "code",
   "execution_count": 3,
   "metadata": {},
   "outputs": [
    {
     "name": "stdout",
     "output_type": "stream",
     "text": [
      "The host file contains the following columns:\n",
      " ['timestamp' 'absolute_timestamp' 'host_id' 'cpu_count' 'mem_capacity'\n",
      " 'guests_terminated' 'guests_running' 'guests_error' 'guests_invalid'\n",
      " 'cpu_limit' 'cpu_usage' 'cpu_demand' 'cpu_utilization' 'cpu_time_active'\n",
      " 'cpu_time_idle' 'cpu_time_steal' 'cpu_time_lost' 'power_draw'\n",
      " 'energy_usage' 'carbon_intensity' 'carbon_emission' 'uptime' 'downtime'\n",
      " 'boot_time']\n",
      "\n",
      "The host file consist of 60487 samples\n"
     ]
    },
    {
     "data": {
      "text/html": [
       "<div>\n",
       "<style scoped>\n",
       "    .dataframe tbody tr th:only-of-type {\n",
       "        vertical-align: middle;\n",
       "    }\n",
       "\n",
       "    .dataframe tbody tr th {\n",
       "        vertical-align: top;\n",
       "    }\n",
       "\n",
       "    .dataframe thead th {\n",
       "        text-align: right;\n",
       "    }\n",
       "</style>\n",
       "<table border=\"1\" class=\"dataframe\">\n",
       "  <thead>\n",
       "    <tr style=\"text-align: right;\">\n",
       "      <th></th>\n",
       "      <th>timestamp</th>\n",
       "      <th>absolute_timestamp</th>\n",
       "      <th>host_id</th>\n",
       "      <th>cpu_count</th>\n",
       "      <th>mem_capacity</th>\n",
       "      <th>guests_terminated</th>\n",
       "      <th>guests_running</th>\n",
       "      <th>guests_error</th>\n",
       "      <th>guests_invalid</th>\n",
       "      <th>cpu_limit</th>\n",
       "      <th>...</th>\n",
       "      <th>cpu_time_idle</th>\n",
       "      <th>cpu_time_steal</th>\n",
       "      <th>cpu_time_lost</th>\n",
       "      <th>power_draw</th>\n",
       "      <th>energy_usage</th>\n",
       "      <th>carbon_intensity</th>\n",
       "      <th>carbon_emission</th>\n",
       "      <th>uptime</th>\n",
       "      <th>downtime</th>\n",
       "      <th>boot_time</th>\n",
       "    </tr>\n",
       "  </thead>\n",
       "  <tbody>\n",
       "    <tr>\n",
       "      <th>0</th>\n",
       "      <td>300000</td>\n",
       "      <td>1376314846000</td>\n",
       "      <td>bb20b45f-d4d9-5138-0000-000000000000</td>\n",
       "      <td>1</td>\n",
       "      <td>256000</td>\n",
       "      <td>0</td>\n",
       "      <td>11</td>\n",
       "      <td>0</td>\n",
       "      <td>0</td>\n",
       "      <td>3200.0</td>\n",
       "      <td>...</td>\n",
       "      <td>0</td>\n",
       "      <td>1102143</td>\n",
       "      <td>0</td>\n",
       "      <td>400.0</td>\n",
       "      <td>120000.0</td>\n",
       "      <td>43.004721</td>\n",
       "      <td>1.433491</td>\n",
       "      <td>300000</td>\n",
       "      <td>0</td>\n",
       "      <td>0</td>\n",
       "    </tr>\n",
       "    <tr>\n",
       "      <th>1</th>\n",
       "      <td>600000</td>\n",
       "      <td>1376315146000</td>\n",
       "      <td>bb20b45f-d4d9-5138-0000-000000000000</td>\n",
       "      <td>1</td>\n",
       "      <td>256000</td>\n",
       "      <td>0</td>\n",
       "      <td>11</td>\n",
       "      <td>0</td>\n",
       "      <td>0</td>\n",
       "      <td>3200.0</td>\n",
       "      <td>...</td>\n",
       "      <td>0</td>\n",
       "      <td>1028304</td>\n",
       "      <td>0</td>\n",
       "      <td>400.0</td>\n",
       "      <td>120000.0</td>\n",
       "      <td>42.607796</td>\n",
       "      <td>1.420260</td>\n",
       "      <td>300000</td>\n",
       "      <td>0</td>\n",
       "      <td>0</td>\n",
       "    </tr>\n",
       "    <tr>\n",
       "      <th>2</th>\n",
       "      <td>900000</td>\n",
       "      <td>1376315446000</td>\n",
       "      <td>bb20b45f-d4d9-5138-0000-000000000000</td>\n",
       "      <td>1</td>\n",
       "      <td>256000</td>\n",
       "      <td>0</td>\n",
       "      <td>11</td>\n",
       "      <td>0</td>\n",
       "      <td>0</td>\n",
       "      <td>3200.0</td>\n",
       "      <td>...</td>\n",
       "      <td>0</td>\n",
       "      <td>1037321</td>\n",
       "      <td>0</td>\n",
       "      <td>400.0</td>\n",
       "      <td>120000.0</td>\n",
       "      <td>42.607796</td>\n",
       "      <td>1.420260</td>\n",
       "      <td>300000</td>\n",
       "      <td>0</td>\n",
       "      <td>0</td>\n",
       "    </tr>\n",
       "    <tr>\n",
       "      <th>3</th>\n",
       "      <td>1200000</td>\n",
       "      <td>1376315746000</td>\n",
       "      <td>bb20b45f-d4d9-5138-0000-000000000000</td>\n",
       "      <td>1</td>\n",
       "      <td>256000</td>\n",
       "      <td>0</td>\n",
       "      <td>11</td>\n",
       "      <td>0</td>\n",
       "      <td>0</td>\n",
       "      <td>3200.0</td>\n",
       "      <td>...</td>\n",
       "      <td>0</td>\n",
       "      <td>475418</td>\n",
       "      <td>0</td>\n",
       "      <td>400.0</td>\n",
       "      <td>120000.0</td>\n",
       "      <td>42.607796</td>\n",
       "      <td>1.420260</td>\n",
       "      <td>300000</td>\n",
       "      <td>0</td>\n",
       "      <td>0</td>\n",
       "    </tr>\n",
       "    <tr>\n",
       "      <th>4</th>\n",
       "      <td>1500000</td>\n",
       "      <td>1376316046000</td>\n",
       "      <td>bb20b45f-d4d9-5138-0000-000000000000</td>\n",
       "      <td>1</td>\n",
       "      <td>256000</td>\n",
       "      <td>0</td>\n",
       "      <td>11</td>\n",
       "      <td>0</td>\n",
       "      <td>0</td>\n",
       "      <td>3200.0</td>\n",
       "      <td>...</td>\n",
       "      <td>0</td>\n",
       "      <td>454698</td>\n",
       "      <td>0</td>\n",
       "      <td>400.0</td>\n",
       "      <td>120000.0</td>\n",
       "      <td>42.292972</td>\n",
       "      <td>1.409766</td>\n",
       "      <td>300000</td>\n",
       "      <td>0</td>\n",
       "      <td>0</td>\n",
       "    </tr>\n",
       "  </tbody>\n",
       "</table>\n",
       "<p>5 rows × 24 columns</p>\n",
       "</div>"
      ],
      "text/plain": [
       "   timestamp  absolute_timestamp                               host_id  \\\n",
       "0     300000       1376314846000  bb20b45f-d4d9-5138-0000-000000000000   \n",
       "1     600000       1376315146000  bb20b45f-d4d9-5138-0000-000000000000   \n",
       "2     900000       1376315446000  bb20b45f-d4d9-5138-0000-000000000000   \n",
       "3    1200000       1376315746000  bb20b45f-d4d9-5138-0000-000000000000   \n",
       "4    1500000       1376316046000  bb20b45f-d4d9-5138-0000-000000000000   \n",
       "\n",
       "   cpu_count  mem_capacity  guests_terminated  guests_running  guests_error  \\\n",
       "0          1        256000                  0              11             0   \n",
       "1          1        256000                  0              11             0   \n",
       "2          1        256000                  0              11             0   \n",
       "3          1        256000                  0              11             0   \n",
       "4          1        256000                  0              11             0   \n",
       "\n",
       "   guests_invalid  cpu_limit  ...  cpu_time_idle  cpu_time_steal  \\\n",
       "0               0     3200.0  ...              0         1102143   \n",
       "1               0     3200.0  ...              0         1028304   \n",
       "2               0     3200.0  ...              0         1037321   \n",
       "3               0     3200.0  ...              0          475418   \n",
       "4               0     3200.0  ...              0          454698   \n",
       "\n",
       "   cpu_time_lost  power_draw  energy_usage  carbon_intensity  carbon_emission  \\\n",
       "0              0       400.0      120000.0         43.004721         1.433491   \n",
       "1              0       400.0      120000.0         42.607796         1.420260   \n",
       "2              0       400.0      120000.0         42.607796         1.420260   \n",
       "3              0       400.0      120000.0         42.607796         1.420260   \n",
       "4              0       400.0      120000.0         42.292972         1.409766   \n",
       "\n",
       "   uptime  downtime  boot_time  \n",
       "0  300000         0          0  \n",
       "1  300000         0          0  \n",
       "2  300000         0          0  \n",
       "3  300000         0          0  \n",
       "4  300000         0          0  \n",
       "\n",
       "[5 rows x 24 columns]"
      ]
     },
     "execution_count": 3,
     "metadata": {},
     "output_type": "execute_result"
    }
   ],
   "source": [
    "print(f\"The host file contains the following columns:\\n {np.array(df_host_small.columns)}\\n\")\n",
    "print(f\"The host file consist of {len(df_host_small)} samples\")\n",
    "df_host_small.head()"
   ]
  },
  {
   "cell_type": "markdown",
   "metadata": {},
   "source": [
    "### Servers\n",
    "The next outpput file we will look at is the server file. In Graph Greenifier tasks are called servers. \n",
    "The server file contains all information about the different servers at each timestamp. This file can be used to find out when a task was run, how long it took, and on which host is was executed."
   ]
  },
  {
   "cell_type": "code",
   "execution_count": 4,
   "metadata": {},
   "outputs": [
    {
     "name": "stdout",
     "output_type": "stream",
     "text": [
      "The server file contains the following columns:\n",
      " ['timestamp' 'absolute_timestamp' 'server_id' 'server_name' 'host_id'\n",
      " 'mem_capacity' 'cpu_count' 'cpu_limit' 'cpu_time_active' 'cpu_time_idle'\n",
      " 'cpu_time_steal' 'cpu_time_lost' 'uptime' 'downtime' 'provision_time'\n",
      " 'boot_time']\n",
      "The server file consist of 1598645 samples\n"
     ]
    },
    {
     "data": {
      "text/html": [
       "<div>\n",
       "<style scoped>\n",
       "    .dataframe tbody tr th:only-of-type {\n",
       "        vertical-align: middle;\n",
       "    }\n",
       "\n",
       "    .dataframe tbody tr th {\n",
       "        vertical-align: top;\n",
       "    }\n",
       "\n",
       "    .dataframe thead th {\n",
       "        text-align: right;\n",
       "    }\n",
       "</style>\n",
       "<table border=\"1\" class=\"dataframe\">\n",
       "  <thead>\n",
       "    <tr style=\"text-align: right;\">\n",
       "      <th></th>\n",
       "      <th>timestamp</th>\n",
       "      <th>absolute_timestamp</th>\n",
       "      <th>server_id</th>\n",
       "      <th>server_name</th>\n",
       "      <th>host_id</th>\n",
       "      <th>mem_capacity</th>\n",
       "      <th>cpu_count</th>\n",
       "      <th>cpu_limit</th>\n",
       "      <th>cpu_time_active</th>\n",
       "      <th>cpu_time_idle</th>\n",
       "      <th>cpu_time_steal</th>\n",
       "      <th>cpu_time_lost</th>\n",
       "      <th>uptime</th>\n",
       "      <th>downtime</th>\n",
       "      <th>provision_time</th>\n",
       "      <th>boot_time</th>\n",
       "    </tr>\n",
       "  </thead>\n",
       "  <tbody>\n",
       "    <tr>\n",
       "      <th>0</th>\n",
       "      <td>300000</td>\n",
       "      <td>1376314846000</td>\n",
       "      <td>00000000-0000-0000-06c4-5d188009454f</td>\n",
       "      <td>1019</td>\n",
       "      <td>bb20b45f-d4d9-5138-0000-000000000000</td>\n",
       "      <td>181</td>\n",
       "      <td>1</td>\n",
       "      <td>3200.0</td>\n",
       "      <td>0</td>\n",
       "      <td>328</td>\n",
       "      <td>0</td>\n",
       "      <td>0</td>\n",
       "      <td>300000</td>\n",
       "      <td>0</td>\n",
       "      <td>0</td>\n",
       "      <td>0.0</td>\n",
       "    </tr>\n",
       "    <tr>\n",
       "      <th>1</th>\n",
       "      <td>300000</td>\n",
       "      <td>1376314846000</td>\n",
       "      <td>00000000-0000-0000-1b39-896a51a8749b</td>\n",
       "      <td>1023</td>\n",
       "      <td>bb20b45f-d4d9-5138-0000-000000000000</td>\n",
       "      <td>260</td>\n",
       "      <td>1</td>\n",
       "      <td>3200.0</td>\n",
       "      <td>0</td>\n",
       "      <td>328</td>\n",
       "      <td>0</td>\n",
       "      <td>0</td>\n",
       "      <td>300000</td>\n",
       "      <td>0</td>\n",
       "      <td>0</td>\n",
       "      <td>0.0</td>\n",
       "    </tr>\n",
       "    <tr>\n",
       "      <th>2</th>\n",
       "      <td>300000</td>\n",
       "      <td>1376314846000</td>\n",
       "      <td>00000000-0000-0000-2c82-9abe1f4532e1</td>\n",
       "      <td>1026</td>\n",
       "      <td>bb20b45f-d4d9-5138-0000-000000000000</td>\n",
       "      <td>250</td>\n",
       "      <td>1</td>\n",
       "      <td>3200.0</td>\n",
       "      <td>2</td>\n",
       "      <td>325</td>\n",
       "      <td>0</td>\n",
       "      <td>0</td>\n",
       "      <td>300000</td>\n",
       "      <td>0</td>\n",
       "      <td>0</td>\n",
       "      <td>0.0</td>\n",
       "    </tr>\n",
       "    <tr>\n",
       "      <th>3</th>\n",
       "      <td>300000</td>\n",
       "      <td>1376314846000</td>\n",
       "      <td>00000000-0000-0000-3ee5-789041c98ac3</td>\n",
       "      <td>1129</td>\n",
       "      <td>bb20b45f-d4d9-5138-0000-000000000000</td>\n",
       "      <td>125</td>\n",
       "      <td>1</td>\n",
       "      <td>3200.0</td>\n",
       "      <td>0</td>\n",
       "      <td>327</td>\n",
       "      <td>0</td>\n",
       "      <td>0</td>\n",
       "      <td>300000</td>\n",
       "      <td>0</td>\n",
       "      <td>0</td>\n",
       "      <td>0.0</td>\n",
       "    </tr>\n",
       "    <tr>\n",
       "      <th>4</th>\n",
       "      <td>300000</td>\n",
       "      <td>1376314846000</td>\n",
       "      <td>00000000-0000-0000-657e-ecdd3cb13d09</td>\n",
       "      <td>1138</td>\n",
       "      <td>bb20b45f-d4d9-5138-0000-000000000000</td>\n",
       "      <td>157</td>\n",
       "      <td>1</td>\n",
       "      <td>3200.0</td>\n",
       "      <td>2</td>\n",
       "      <td>366</td>\n",
       "      <td>0</td>\n",
       "      <td>0</td>\n",
       "      <td>300000</td>\n",
       "      <td>0</td>\n",
       "      <td>0</td>\n",
       "      <td>0.0</td>\n",
       "    </tr>\n",
       "  </tbody>\n",
       "</table>\n",
       "</div>"
      ],
      "text/plain": [
       "   timestamp  absolute_timestamp                             server_id  \\\n",
       "0     300000       1376314846000  00000000-0000-0000-06c4-5d188009454f   \n",
       "1     300000       1376314846000  00000000-0000-0000-1b39-896a51a8749b   \n",
       "2     300000       1376314846000  00000000-0000-0000-2c82-9abe1f4532e1   \n",
       "3     300000       1376314846000  00000000-0000-0000-3ee5-789041c98ac3   \n",
       "4     300000       1376314846000  00000000-0000-0000-657e-ecdd3cb13d09   \n",
       "\n",
       "  server_name                               host_id  mem_capacity  cpu_count  \\\n",
       "0        1019  bb20b45f-d4d9-5138-0000-000000000000           181          1   \n",
       "1        1023  bb20b45f-d4d9-5138-0000-000000000000           260          1   \n",
       "2        1026  bb20b45f-d4d9-5138-0000-000000000000           250          1   \n",
       "3        1129  bb20b45f-d4d9-5138-0000-000000000000           125          1   \n",
       "4        1138  bb20b45f-d4d9-5138-0000-000000000000           157          1   \n",
       "\n",
       "   cpu_limit  cpu_time_active  cpu_time_idle  cpu_time_steal  cpu_time_lost  \\\n",
       "0     3200.0                0            328               0              0   \n",
       "1     3200.0                0            328               0              0   \n",
       "2     3200.0                2            325               0              0   \n",
       "3     3200.0                0            327               0              0   \n",
       "4     3200.0                2            366               0              0   \n",
       "\n",
       "   uptime  downtime  provision_time  boot_time  \n",
       "0  300000         0               0        0.0  \n",
       "1  300000         0               0        0.0  \n",
       "2  300000         0               0        0.0  \n",
       "3  300000         0               0        0.0  \n",
       "4  300000         0               0        0.0  "
      ]
     },
     "execution_count": 4,
     "metadata": {},
     "output_type": "execute_result"
    }
   ],
   "source": [
    "print(f\"The server file contains the following columns:\\n {np.array(df_server_small.columns)}\")\n",
    "print(f\"The server file consist of {len(df_server_small)} samples\")\n",
    "df_server_small.head()"
   ]
  },
  {
   "cell_type": "markdown",
   "metadata": {},
   "source": [
    "### Service\n",
    "\n",
    "Finally, we look at the service output file. \n",
    "The service file contains genaral information about the data center. \n",
    "The service file can be used to determine how many tasks are running or if hosts are up. "
   ]
  },
  {
   "cell_type": "code",
   "execution_count": 5,
   "metadata": {},
   "outputs": [
    {
     "name": "stdout",
     "output_type": "stream",
     "text": [
      "The service file contains the following columns:\n",
      " ['timestamp' 'absolute_timestamp' 'hosts_up' 'hosts_down'\n",
      " 'servers_pending' 'servers_active' 'attempts_success' 'attempts_failure'\n",
      " 'attempts_error']\n",
      "The service file consist of 60487 samples\n"
     ]
    },
    {
     "data": {
      "text/html": [
       "<div>\n",
       "<style scoped>\n",
       "    .dataframe tbody tr th:only-of-type {\n",
       "        vertical-align: middle;\n",
       "    }\n",
       "\n",
       "    .dataframe tbody tr th {\n",
       "        vertical-align: top;\n",
       "    }\n",
       "\n",
       "    .dataframe thead th {\n",
       "        text-align: right;\n",
       "    }\n",
       "</style>\n",
       "<table border=\"1\" class=\"dataframe\">\n",
       "  <thead>\n",
       "    <tr style=\"text-align: right;\">\n",
       "      <th></th>\n",
       "      <th>timestamp</th>\n",
       "      <th>absolute_timestamp</th>\n",
       "      <th>hosts_up</th>\n",
       "      <th>hosts_down</th>\n",
       "      <th>servers_pending</th>\n",
       "      <th>servers_active</th>\n",
       "      <th>attempts_success</th>\n",
       "      <th>attempts_failure</th>\n",
       "      <th>attempts_error</th>\n",
       "    </tr>\n",
       "  </thead>\n",
       "  <tbody>\n",
       "    <tr>\n",
       "      <th>0</th>\n",
       "      <td>300000</td>\n",
       "      <td>1376314846000</td>\n",
       "      <td>1</td>\n",
       "      <td>0</td>\n",
       "      <td>33</td>\n",
       "      <td>11</td>\n",
       "      <td>11</td>\n",
       "      <td>0</td>\n",
       "      <td>0</td>\n",
       "    </tr>\n",
       "    <tr>\n",
       "      <th>1</th>\n",
       "      <td>600000</td>\n",
       "      <td>1376315146000</td>\n",
       "      <td>1</td>\n",
       "      <td>0</td>\n",
       "      <td>33</td>\n",
       "      <td>11</td>\n",
       "      <td>11</td>\n",
       "      <td>0</td>\n",
       "      <td>0</td>\n",
       "    </tr>\n",
       "    <tr>\n",
       "      <th>2</th>\n",
       "      <td>900000</td>\n",
       "      <td>1376315446000</td>\n",
       "      <td>1</td>\n",
       "      <td>0</td>\n",
       "      <td>33</td>\n",
       "      <td>11</td>\n",
       "      <td>11</td>\n",
       "      <td>0</td>\n",
       "      <td>0</td>\n",
       "    </tr>\n",
       "    <tr>\n",
       "      <th>3</th>\n",
       "      <td>1200000</td>\n",
       "      <td>1376315746000</td>\n",
       "      <td>1</td>\n",
       "      <td>0</td>\n",
       "      <td>33</td>\n",
       "      <td>11</td>\n",
       "      <td>11</td>\n",
       "      <td>0</td>\n",
       "      <td>0</td>\n",
       "    </tr>\n",
       "    <tr>\n",
       "      <th>4</th>\n",
       "      <td>1500000</td>\n",
       "      <td>1376316046000</td>\n",
       "      <td>1</td>\n",
       "      <td>0</td>\n",
       "      <td>33</td>\n",
       "      <td>11</td>\n",
       "      <td>11</td>\n",
       "      <td>0</td>\n",
       "      <td>0</td>\n",
       "    </tr>\n",
       "  </tbody>\n",
       "</table>\n",
       "</div>"
      ],
      "text/plain": [
       "   timestamp  absolute_timestamp  hosts_up  hosts_down  servers_pending  \\\n",
       "0     300000       1376314846000         1           0               33   \n",
       "1     600000       1376315146000         1           0               33   \n",
       "2     900000       1376315446000         1           0               33   \n",
       "3    1200000       1376315746000         1           0               33   \n",
       "4    1500000       1376316046000         1           0               33   \n",
       "\n",
       "   servers_active  attempts_success  attempts_failure  attempts_error  \n",
       "0              11                11                 0               0  \n",
       "1              11                11                 0               0  \n",
       "2              11                11                 0               0  \n",
       "3              11                11                 0               0  \n",
       "4              11                11                 0               0  "
      ]
     },
     "execution_count": 5,
     "metadata": {},
     "output_type": "execute_result"
    }
   ],
   "source": [
    "print(f\"The service file contains the following columns:\\n {np.array(df_service_small.columns)}\")\n",
    "print(f\"The service file consist of {len(df_service_small)} samples\")\n",
    "df_service_small.head()"
   ]
  },
  {
   "cell_type": "markdown",
   "metadata": {},
   "source": [
    "___Please answer the questions related to the Output in the google form___"
   ]
  },
  {
   "cell_type": "markdown",
   "metadata": {},
   "source": [
    "## 6. Aggregated results\n",
    "\n",
    "To properly compare the different experiments, we would like to aggregate to aggregate them into meaningfull values.\n",
    "Below we see an example how to do this using pandas directly. In this example we count the average power draw of a hosts during the workload. "
   ]
  },
  {
   "cell_type": "code",
   "execution_count": 6,
   "metadata": {},
   "outputs": [
    {
     "name": "stdout",
     "output_type": "stream",
     "text": [
      "In the small data center, hosts draw 327.42 Watt of power on average\n",
      "In the large data center, hosts draw 255.74 Watt of power on average\n"
     ]
    }
   ],
   "source": [
    "power_draw_small = df_host_small[\"power_draw\"].mean()\n",
    "power_draw_large = df_host_large[\"power_draw\"].mean()\n",
    "\n",
    "print(f\"In the small data center, hosts draw {power_draw_small:.2f} Watt of power on average\")\n",
    "print(f\"In the large data center, hosts draw {power_draw_large:.2f} Watt of power on average\")"
   ]
  },
  {
   "cell_type": "markdown",
   "metadata": {},
   "source": [
    "**Exercise 3**:\n",
    "\n",
    "Can you determine the average number of guests running on a host?  "
   ]
  },
  {
   "cell_type": "code",
   "execution_count": 7,
   "metadata": {},
   "outputs": [
    {
     "name": "stdout",
     "output_type": "stream",
     "text": [
      "In the small data center, hosts have 6.68 number of guests on average\n",
      "In the large data center, hosts have 2.60 number of guests on average\n"
     ]
    }
   ],
   "source": [
    "# Put your code here\n",
    "power_draw_small = df_host_small[\"guests_running\"].mean()\n",
    "power_draw_large = df_host_large[\"guests_running\"].mean()\n",
    "\n",
    "print(f\"In the small data center, hosts have {power_draw_small:.2f} number of guests on average\")\n",
    "print(f\"In the large data center, hosts have {power_draw_large:.2f} number of guests on average\")"
   ]
  },
  {
   "cell_type": "markdown",
   "metadata": {},
   "source": [
    "### Runtime\n",
    "\n",
    "Using a bigger data center can significantly descrease the runtime needed for a workload.\n",
    "We can get the runtimes of the two experiments using the *getTotalRuntime* function"
   ]
  },
  {
   "cell_type": "code",
   "execution_count": 8,
   "metadata": {},
   "outputs": [
    {
     "name": "stdout",
     "output_type": "stream",
     "text": [
      "The small data center had a total runtime of 210 days 00:29:12\n",
      "The large data center had a total runtime of 90 days 00:09:12\n"
     ]
    }
   ],
   "source": [
    "runtime_small = utils.getTotalRuntime(df_service_small)\n",
    "runtime_large = utils.getTotalRuntime(df_service_large)\n",
    "\n",
    "print(f\"The small data center had a total runtime of {runtime_small}\")\n",
    "print(f\"The large data center had a total runtime of {runtime_large}\")"
   ]
  },
  {
   "cell_type": "markdown",
   "metadata": {},
   "source": [
    "The small data center takes more than twice as long to finish all tasks compared to the large data center. \n",
    "This is unsurprising since the large data center is much larger\n"
   ]
  },
  {
   "cell_type": "markdown",
   "metadata": {},
   "source": [
    "### Utilization\n",
    "\n",
    "A second metric that might be interesting to look at is the utilization of the hardware. \n",
    "Data center operators want to control their utilization. If the utilization is too low, it means most machines are idle and thus wasting energy. \n",
    "If utilization is too high, it could cause oversubstription of delays when new tasks are submitted.  "
   ]
  },
  {
   "cell_type": "code",
   "execution_count": 9,
   "metadata": {},
   "outputs": [
    {
     "name": "stdout",
     "output_type": "stream",
     "text": [
      "On average, the utilization of each host in the small data center is 63.71%\n",
      "On average, the utilization of each host in the large data center is 27.87%\n"
     ]
    }
   ],
   "source": [
    "utilization_small = utils.getMeanUtilization(df_host_small)\n",
    "utilization_large = utils.getMeanUtilization(df_host_large)\n",
    "\n",
    "print(f\"On average, the utilization of each host in the small data center is {utilization_small * 100:.2f}%\")\n",
    "print(f\"On average, the utilization of each host in the large data center is {utilization_large * 100:.2f}%\")"
   ]
  },
  {
   "cell_type": "markdown",
   "metadata": {},
   "source": [
    "The small data center is utilized three times as much as the large data center. \n",
    "This is unsurprising since the large data center is much larger and thus has many idle hosts."
   ]
  },
  {
   "cell_type": "code",
   "execution_count": 10,
   "metadata": {},
   "outputs": [
    {
     "name": "stdout",
     "output_type": "stream",
     "text": [
      "In the small data center, tasks had to wait on average 82 days 22:32:06\n",
      "In the large data center, tasks had to wait on average 20 days 12:45:42\n"
     ]
    }
   ],
   "source": [
    "waitingtime_small = utils.getMeanWaitTime(df_server_small)\n",
    "waitingtime_large = utils.getMeanWaitTime(df_server_large)\n",
    "\n",
    "print(f\"In the small data center, tasks had to wait on average {waitingtime_small}\")\n",
    "print(f\"In the large data center, tasks had to wait on average {waitingtime_large}\")"
   ]
  },
  {
   "cell_type": "markdown",
   "metadata": {},
   "source": [
    "### Energy Usage\n",
    "\n",
    "Finally, we look at the energy used by both data centers. "
   ]
  },
  {
   "cell_type": "code",
   "execution_count": 11,
   "metadata": {},
   "outputs": [
    {
     "name": "stdout",
     "output_type": "stream",
     "text": [
      "The small data center used 1650.37 kWh during the workload\n",
      "The large data center used 3314.74 kWh during the workload\n"
     ]
    }
   ],
   "source": [
    "energy_small = utils.getTotalEnergyUsage(df_host_small, \"kWh\")\n",
    "energy_large = utils.getTotalEnergyUsage(df_host_large, \"kWh\")\n",
    "\n",
    "print(f\"The small data center used {energy_small:.2f} kWh during the workload\")\n",
    "print(f\"The large data center used {energy_large:.2f} kWh during the workload\")"
   ]
  },
  {
   "cell_type": "markdown",
   "metadata": {},
   "source": [
    "___Please answer the questions related to the Aggregation in the google form___"
   ]
  },
  {
   "cell_type": "markdown",
   "metadata": {},
   "source": [
    "## 7. Visualization\n",
    "\n",
    "While single numbers can be great to compare the different workloads, it does not always indicate the reasons for the difference. \n",
    "\n",
    "Similarly to the value aggregation, vizualization can be done directly using the pandas dataframes. \n",
    "However, Graph Greenifier also provides several predefined plotting tools to help this process.\n",
    "\n",
    "### Service\n",
    "\n",
    "Lets start with plotting general information using the service output file. This can be done using the *plotService* function. \n",
    "Below, we plot the number of active servers during the workload. "
   ]
  },
  {
   "cell_type": "code",
   "execution_count": 12,
   "metadata": {},
   "outputs": [
    {
     "data": {
      "image/png": "[encoded data removed]",
      "text/plain": [
       "<Figure size 640x480 with 1 Axes>"
      ]
     },
     "metadata": {},
     "output_type": "display_data"
    }
   ],
   "source": [
    "utils.plotService(df_service_small, \"servers_active\", \"small\")\n",
    "utils.plotService(df_service_large, \"servers_active\", \"large\")"
   ]
  },
  {
   "cell_type": "markdown",
   "metadata": {},
   "source": [
    "**Exercise 4**:\n",
    "\n",
    "Can you use the *plotService* function to plot the number of pending servers during the workload?"
   ]
  },
  {
   "cell_type": "code",
   "execution_count": 13,
   "metadata": {},
   "outputs": [
    {
     "data": {
      "image/png": "[encoded data removed]",
      "text/plain": [
       "<Figure size 640x480 with 1 Axes>"
      ]
     },
     "metadata": {},
     "output_type": "display_data"
    }
   ],
   "source": [
    "# Put your code here\n",
    "utils.plotService(df_service_small, \"servers_pending\", \"small\")\n",
    "utils.plotService(df_service_large, \"servers_pending\", \"large\")"
   ]
  },
  {
   "cell_type": "markdown",
   "metadata": {},
   "source": [
    "### Host\n",
    "\n",
    "Information from the host file can be plotted using the *plotHosts* function. \n",
    "This function takes a DataFrame, a column and a method of aggregation. \n",
    "At each timestamp, each host is sampled. This means we need some form aggregation to combine the samples.\n",
    "In the current version, Graph Greenifier supports taking the average, and the sum. \n",
    "\n",
    "\n",
    "Below, we plot the cpu utilization during the workload of the small and large data center. "
   ]
  },
  {
   "cell_type": "code",
   "execution_count": 14,
   "metadata": {},
   "outputs": [
    {
     "data": {
      "image/png": "[encoded data removed]",
      "text/plain": [
       "<Figure size 640x480 with 1 Axes>"
      ]
     },
     "metadata": {},
     "output_type": "display_data"
    }
   ],
   "source": [
    "utils.plotHosts(df_host_small, \"cpu_utilization\", \"mean\", \"small\")\n",
    "utils.plotHosts(df_host_large, \"cpu_utilization\", \"mean\", \"large\")"
   ]
  },
  {
   "cell_type": "markdown",
   "metadata": {},
   "source": [
    "For some metrics it makes more sense to aggregate the hosts to get the metric of the full data center.\n",
    "Below we plot the power draw during the workload of each data center. "
   ]
  },
  {
   "cell_type": "code",
   "execution_count": 15,
   "metadata": {},
   "outputs": [
    {
     "data": {
      "image/png": "[encoded data removed]",
      "text/plain": [
       "<Figure size 640x480 with 1 Axes>"
      ]
     },
     "metadata": {},
     "output_type": "display_data"
    }
   ],
   "source": [
    "utils.plotHosts(df_host_small, \"power_draw\", \"sum\", \"small\")\n",
    "utils.plotHosts(df_host_large, \"power_draw\", \"sum\", \"large\")"
   ]
  },
  {
   "cell_type": "markdown",
   "metadata": {},
   "source": [
    "**Exercise 5**:\n",
    "\n",
    "Can you use the *plotHosts* function to plot Carbon emission during the workload?"
   ]
  },
  {
   "cell_type": "code",
   "execution_count": 16,
   "metadata": {},
   "outputs": [
    {
     "data": {
      "image/png": "[encoded data removed]",
      "text/plain": [
       "<Figure size 640x480 with 1 Axes>"
      ]
     },
     "metadata": {},
     "output_type": "display_data"
    }
   ],
   "source": [
    "utils.plotHosts(df_host_small, \"carbon_emission\", \"sum\", \"small\")\n",
    "utils.plotHosts(df_host_large, \"carbon_emission\", \"sum\", \"large\")"
   ]
  },
  {
   "cell_type": "code",
   "execution_count": null,
   "metadata": {},
   "outputs": [],
   "source": []
  }
 ],
 "metadata": {
  "kernelspec": {
   "display_name": "Python 3 (ipykernel)",
   "language": "python",
   "name": "python3"
  },
  "language_info": {
   "codemirror_mode": {
    "name": "ipython",
    "version": 3
   },
   "file_extension": ".py",
   "mimetype": "text/x-python",
   "name": "python",
   "nbconvert_exporter": "python",
   "pygments_lexer": "ipython3",
   "version": "3.11.0"
  }
 },
 "nbformat": 4,
 "nbformat_minor": 4
}
